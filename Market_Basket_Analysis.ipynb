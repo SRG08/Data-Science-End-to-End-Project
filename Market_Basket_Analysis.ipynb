{
  "nbformat": 4,
  "nbformat_minor": 0,
  "metadata": {
    "colab": {
      "name": "Market_Basket_Analysis.ipynb",
      "provenance": [],
      "collapsed_sections": [],
      "authorship_tag": "ABX9TyOVWBSf1CfR7jIcPmiNC0+N",
      "include_colab_link": true
    },
    "kernelspec": {
      "name": "python3",
      "display_name": "Python 3"
    }
  },
  "cells": [
    {
      "cell_type": "markdown",
      "metadata": {
        "id": "view-in-github",
        "colab_type": "text"
      },
      "source": [
        "<a href=\"https://colab.research.google.com/github/SRG08/Data-Science-End-to-End-Project/blob/main/Market_Basket_Analysis.ipynb\" target=\"_parent\"><img src=\"https://colab.research.google.com/assets/colab-badge.svg\" alt=\"Open In Colab\"/></a>"
      ]
    },
    {
      "cell_type": "code",
      "metadata": {
        "id": "yQjoQcQy0uSt"
      },
      "source": [
        "# This is the association rule where we are trying to predict the assocition of one product with another.\r\n",
        "\r\n",
        "# This Algorithms uses concept of Support , confidence and lift.\r\n",
        "\r\n",
        "# Where :\r\n",
        "# 1) Support == (Total Number of transactions of Item i)/Total number of Transactions in the seasonal data set.\r\n",
        "# 2) Confidence of Item 1 --> Item 2  == (Number of Transactions with Item 1 -->Item 2) / Number of Transactions with Item 1\r\n",
        "# 3) Lift of Item 1 --> Item 2 == (Confidence of Item 1 --> Item 2)/(Support of Item 2)\r\n"
      ],
      "execution_count": null,
      "outputs": []
    }
  ]
}