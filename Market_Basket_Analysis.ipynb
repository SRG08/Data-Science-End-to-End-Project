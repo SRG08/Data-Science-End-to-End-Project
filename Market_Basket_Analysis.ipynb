{
  "nbformat": 4,
  "nbformat_minor": 0,
  "metadata": {
    "colab": {
      "name": "Market_Basket_Analysis.ipynb",
      "provenance": [],
      "collapsed_sections": [],
      "authorship_tag": "ABX9TyP/xUYF3N61updwmy0c84p8",
      "include_colab_link": true
    },
    "kernelspec": {
      "name": "python3",
      "display_name": "Python 3"
    }
  },
  "cells": [
    {
      "cell_type": "markdown",
      "metadata": {
        "id": "view-in-github",
        "colab_type": "text"
      },
      "source": [
        "<a href=\"https://colab.research.google.com/github/SRG08/Data-Science-End-to-End-Project/blob/main/Market_Basket_Analysis.ipynb\" target=\"_parent\"><img src=\"https://colab.research.google.com/assets/colab-badge.svg\" alt=\"Open In Colab\"/></a>"
      ]
    },
    {
      "cell_type": "code",
      "metadata": {
        "id": "yQjoQcQy0uSt"
      },
      "source": [
        "# This is the association rule where we are trying to predict the assocition of one product with another.\r\n",
        "\r\n",
        "# This Algorithms uses concept of Support , confidence and lift.\r\n",
        "\r\n",
        "# Where :\r\n",
        "# 1) Support == (Total Number of transactions of Item i)/Total number of Transactions in the seasonal data set.\r\n",
        "# 2) Confidence of Item 1 --> Item 2  == (Number of Transactions with Item 1 -->Item 2) / Number of Transactions with Item 1\r\n",
        "# 3) Lift of Item 1 --> Item 2 == (Confidence of Item 1 --> Item 2)/(Support of Item 2)\r\n"
      ],
      "execution_count": 1,
      "outputs": []
    },
    {
      "cell_type": "markdown",
      "metadata": {
        "id": "T_oQt0GN4O00"
      },
      "source": [
        ""
      ]
    },
    {
      "cell_type": "markdown",
      "metadata": {
        "id": "Fex6CIAx4Q2N"
      },
      "source": [
        "What is Association Rule Learning?\r\n",
        "The association rule learning is a rule-based machine learning approach that generates the relationship between variables in a dataset. \r\n",
        "It has major applications in the retail industry including E-Commerce retail businesses. \r\n",
        "Using this strategy, the products sold in an association can be explored and can be offered to customers to buy together. \r\n",
        "For example, it can be discovered that if the customers have bought onion and potato together, then most likely they have bought tomato also. \r\n",
        "It can be given a rule in the form of  {onion, potato} -> tomato. These rules are called association rules. \r\n",
        "The Association Learning methods discover these types of rules from the dataset comprising the list of transactions. \r\n",
        "\r\n",
        "The association rule learning has three popular algorithms – Apriori, Eclat, and FP-Growth. In this article, we will discuss the Apriori method of association learning."
      ]
    },
    {
      "cell_type": "code",
      "metadata": {
        "id": "xVANv_wr4NIG"
      },
      "source": [
        ""
      ],
      "execution_count": null,
      "outputs": []
    }
  ]
}